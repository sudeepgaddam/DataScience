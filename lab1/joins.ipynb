








<!DOCTYPE html>
<html lang="en">

<head>
  <meta charset="utf-8">
  <title></title>
  <meta name="viewport" content="width=device-width, initial-scale=1.0">
  <meta name="description" content="">
  <meta name="author" content="">
  
  <meta name="robots" content="noindex,nofollow">
  

  <!--NEW RELIC Start Perf Measurement-->
  
  <!--NREND-->

  <!-- Le styles -->
  <link href="/static/build/styles.css" rel="stylesheet">

  <!-- Le HTML5 shim, for IE6-8 support of HTML5 elements -->
  <!--[if lt IE 9]>
    <script src="http://html5shim.googlecode.com/svn/trunk/html5.js"></script>
  <![endif]-->

  <!-- Le fav and touch icons -->
  <link rel="shortcut icon" href="/static/ico/ipynb_icon_16x16.png">
  <link rel="apple-touch-icon-precomposed" sizes="144x144" 
        href="/static/ico/apple-touch-icon-144-precomposed.png">
  <link rel="apple-touch-icon-precomposed" sizes="114x114" 
        href="/static/ico/apple-touch-icon-114-precomposed.png">
  <link rel="apple-touch-icon-precomposed" sizes="72x72" 
        href="/static/ico/apple-touch-icon-72-precomposed.png">
  <link rel="apple-touch-icon-precomposed" 
        href="/static/ico/apple-touch-icon-57-precomposed.png">
  
  

  

  
  <meta name="twitter:card" content="summary">
  <meta name="twitter:title" content="Notebook on nbviewer">
  <meta name="twitter:description" content="Check out this Jupyter notebook!">

  
  <meta name="twitter:domain" content="nbviewer.ipython.org">
  <meta name="twitter:image:src" content="http://ipython.org/ipython-doc/dev/_images/ipynb_icon_128x128.png">

  
    <link href="/static/build/notebook.css" rel="stylesheet">
  

  

  
    <script src="https://cdn.mathjax.org/mathjax/latest/MathJax.js?config=TeX-AMS_HTML" type="text/javascript">
    </script>
    <script type="text/javascript">
      init_mathjax = function() {
        if (window.MathJax) {
          // MathJax loaded
          MathJax.Hub.Config({
            TeX: {
              equationNumbers: {
                autoNumber: "AMS",
                useLabelIds: true
              }
            },
            tex2jax: {
              inlineMath: [ ['$','$'], ["\\(","\\)"] ],
              displayMath: [ ['$$','$$'], ["\\[","\\]"] ],
              processEscapes: true,
              processEnvironments: true
            },
            displayAlign: 'center',
            "HTML-CSS": {
              styles: {'.MathJax_Display': {"margin": 0}},
              linebreaks: { automatic: true }
            }
          });
          MathJax.Hub.Queue(["Typeset", MathJax.Hub]);
        }
      }
      init_mathjax();
    </script>
  

</head>

<body data-spy="scroll" data-target=".subnav" data-offset="50">

  <!-- These are loaded at the top of the body so they are available to 
       notebook cells when they are loaded below. -->
  <script src="/static/components/jquery/dist/jquery.min.js"></script>
  <script src="/static/components/requirejs/require.js"></script>
  <script src="/static/components/moment/min/moment.min.js"></script>

<!-- Navbar
================================================== -->
  <nav id="menubar" class="navbar navbar-default navbar-fixed-top">
    <div class="container">
      <div class="navbar-header">
        <button type="button" class="navbar-toggle collapsed" data-toggle="collapse" data-target=".navbar-collapse">
          <span class="sr-only">Toggle navigation</span>
          <i class="fa fa-bars"></i>
        </button>
        <a class="navbar-brand" href="/">nbviewer</a>
      </div>

      <div class="collapse navbar-collapse">
        <ul class="nav navbar-nav">
          <li>
    <a href="/faq" title="FAQ" >
      
        <span>FAQ</span>
      
    </a>
  </li>
          <li class="">
            <a href="http://ipython.org">IPython</a>
          </li>
          <li class="">
            <a href="http://jupyter.org">Jupyter</a>
          </li>
        </ul>
        
        <ul class="nav navbar-nav navbar-right">
          
  
    
  

  
  
  
    <li>
    <a href="https://github.com/xfzhou/IDS-F15/blob/master/lab1/joins.ipynb" title="View on GitHub" >
      <span class="fa fa-github fa-2x menu-icon"></span>
      <span class="menu-text">View on GitHub</span>
    </a>
  </li>
  

  <li>
    <a href="https://raw.githubusercontent.com/xfzhou/IDS-F15/master/lab1/joins.ipynb" title="Download Notebook" download>
      <span class="fa fa-download fa-2x menu-icon"></span>
      <span class="menu-text">Download Notebook</span>
    </a>
  </li>

        </ul>
      </div><!-- /.navbar-collapse -->
      
      
    </div>
  </nav>

  <div class="container">
    
  
  <ol class="breadcrumb">
    
      <li>
        <a href="/github/xfzhou/IDS-F15/tree/master">IDS-F15</a>
      </li>
    
      <li>
        <a href="/github/xfzhou/IDS-F15/tree/master/lab1">lab1</a>
      </li>
    
  </ol>
  
  <div id="notebook">
    <div id="notebook-container">
      
<div class="cell border-box-sizing text_cell rendered">
<div class="prompt input_prompt">
</div>
<div class="inner_cell">
<div class="text_cell_render border-box-sizing rendered_html">
<h1 id="Joining-DataFrames-in-Pandas">Joining DataFrames in Pandas<a class="anchor-link" href="#Joining-DataFrames-in-Pandas">&#182;</a></h1><p>In previous labs, we've explored the power tables as a data management abstraction, in particular with the Pandas DataFrame object.
Tables let us select rows and columns of interest, group data, and measure aggregates.</p>
<p>But what happens when we have more than one table?
Traditional relational databases usually contain many tables.
Moreover, when integrating multiple data sets, we necessarily need tools to combine them.</p>
<p>In this lab, we will use Panda's take on the database <strong>join</strong> operation to see how tables can be linked together.
Specifically, we're going to perform a "fuzzy join" based on string edit-distance as another approach to finding duplicate records.</p>
<p>Remember to fill out the DIYs <a href="https://ufl.instructure.com/courses/320501/quizzes/463144/">here</a> at the end when you are ready!</p>

</div>
</div>
</div>
<div class="cell border-box-sizing text_cell rendered">
<div class="prompt input_prompt">
</div>
<div class="inner_cell">
<div class="text_cell_render border-box-sizing rendered_html">
<h2 id="Setup">Setup<a class="anchor-link" href="#Setup">&#182;</a></h2><h3 id="This-Notebook">This Notebook<a class="anchor-link" href="#This-Notebook">&#182;</a></h3><p>Download this notebook so you can edit it. (If you are viewing it via nbviewer.ipython.org, then use the link in the upper right corner.) To edit this notebook, in your VM terminal, type "ipython notebook" and in your prompted brower, click the notebook file to open and edit it.</p>
<h3 id="Data">Data<a class="anchor-link" href="#Data">&#182;</a></h3><p>Today we'll be using a small data set of restaurants.
Download the data from <a href="https://ufl.instructure.com/courses/320501/files/folder/Lab1">here</a>.
Put the data file, "restaurants.csv", in the same directory as this notebook.</p>
<h3 id="Edit-Distance">Edit Distance<a class="anchor-link" href="#Edit-Distance">&#182;</a></h3><p>We're going to be using a string-similarity python library to compute "edit distance".</p>
<p>To test that it works, the following should run OK:</p>

</div>
</div>
</div>
<div class="cell border-box-sizing code_cell rendered">
<div class="input">
<div class="prompt input_prompt">In&nbsp;[&nbsp;]:</div>
<div class="inner_cell">
    <div class="input_area">
<div class=" highlight hl-ipython3"><pre><span class="kn">import</span> <span class="nn">Levenshtein</span> <span class="k">as</span> <span class="nn">L</span>
</pre></div>

</div>
</div>
</div>

</div>
<div class="cell border-box-sizing text_cell rendered">
<div class="prompt input_prompt">
</div>
<div class="inner_cell">
<div class="text_cell_render border-box-sizing rendered_html">
<h2 id="Joins">Joins<a class="anchor-link" href="#Joins">&#182;</a></h2><p>A <strong>join</strong> is a way to connect rows in two different data tables based on some criteria.
Suppose the university has a database for student records with two tables in it: <em>Students</em> and <em>Grades</em>.</p>

</div>
</div>
</div>
<div class="cell border-box-sizing code_cell rendered">
<div class="input">
<div class="prompt input_prompt">In&nbsp;[&nbsp;]:</div>
<div class="inner_cell">
    <div class="input_area">
<div class=" highlight hl-ipython3"><pre><span class="kn">import</span> <span class="nn">pandas</span> <span class="k">as</span> <span class="nn">pd</span>

<span class="n">Students</span> <span class="o">=</span> <span class="n">pd</span><span class="o">.</span><span class="n">DataFrame</span><span class="p">({</span><span class="s">&#39;student_id&#39;</span><span class="p">:</span> <span class="p">[</span><span class="mi">1</span><span class="p">,</span> <span class="mi">2</span><span class="p">],</span> <span class="s">&#39;name&#39;</span><span class="p">:</span> <span class="p">[</span><span class="s">&#39;Alice&#39;</span><span class="p">,</span> <span class="s">&#39;Bob&#39;</span><span class="p">]})</span>
<span class="n">Students</span>
</pre></div>

</div>
</div>
</div>

</div>
<div class="cell border-box-sizing code_cell rendered">
<div class="input">
<div class="prompt input_prompt">In&nbsp;[&nbsp;]:</div>
<div class="inner_cell">
    <div class="input_area">
<div class=" highlight hl-ipython3"><pre><span class="n">Grades</span> <span class="o">=</span> <span class="n">pd</span><span class="o">.</span><span class="n">DataFrame</span><span class="p">({</span><span class="s">&#39;student_id&#39;</span><span class="p">:</span> <span class="p">[</span><span class="mi">1</span><span class="p">,</span> <span class="mi">1</span><span class="p">,</span> <span class="mi">2</span><span class="p">,</span> <span class="mi">2</span><span class="p">],</span> <span class="s">&#39;class_id&#39;</span><span class="p">:</span> <span class="p">[</span><span class="mi">1</span><span class="p">,</span> <span class="mi">2</span><span class="p">,</span> <span class="mi">1</span><span class="p">,</span> <span class="mi">3</span><span class="p">],</span> <span class="s">&#39;grade&#39;</span><span class="p">:</span> <span class="p">[</span><span class="s">&#39;A&#39;</span><span class="p">,</span> <span class="s">&#39;C&#39;</span><span class="p">,</span> <span class="s">&#39;B&#39;</span><span class="p">,</span> <span class="s">&#39;B&#39;</span><span class="p">]})</span>
<span class="n">Grades</span>
</pre></div>

</div>
</div>
</div>

</div>
<div class="cell border-box-sizing text_cell rendered">
<div class="prompt input_prompt">
</div>
<div class="inner_cell">
<div class="text_cell_render border-box-sizing rendered_html">
<p>Let's say we want to know all of Bob's grades.
Then, we can look up Bob's student ID in the Students table, and with the ID, look up his grades in the Grades table.
Joins naturally express this process: when two tables share a common type of column (student ID in this case), we can join the tables together to get a complete view.</p>
<p>In Pandas, we can use the <strong>merge</strong> method to perform a join.
Pass the two tables to join as the first arguments, then the "on" parameter is set to the join column name.</p>

</div>
</div>
</div>
<div class="cell border-box-sizing code_cell rendered">
<div class="input">
<div class="prompt input_prompt">In&nbsp;[&nbsp;]:</div>
<div class="inner_cell">
    <div class="input_area">
<div class=" highlight hl-ipython3"><pre><span class="n">pd</span><span class="o">.</span><span class="n">merge</span><span class="p">(</span><span class="n">Students</span><span class="p">,</span> <span class="n">Grades</span><span class="p">,</span> <span class="n">on</span><span class="o">=</span><span class="s">&#39;student_id&#39;</span><span class="p">)</span>
</pre></div>

</div>
</div>
</div>

</div>
<div class="cell border-box-sizing text_cell rendered">
<div class="prompt input_prompt">
</div>
<div class="inner_cell">
<div class="text_cell_render border-box-sizing rendered_html">
<h3 id="DIY">DIY<a class="anchor-link" href="#DIY">&#182;</a></h3><p><em>1.</em> Use <strong>merge</strong> to join Grades with the Classes table below, and find out what class Alice got an A in.</p>

</div>
</div>
</div>
<div class="cell border-box-sizing code_cell rendered">
<div class="input">
<div class="prompt input_prompt">In&nbsp;[&nbsp;]:</div>
<div class="inner_cell">
    <div class="input_area">
<div class=" highlight hl-ipython3"><pre><span class="n">Classes</span> <span class="o">=</span> <span class="n">pd</span><span class="o">.</span><span class="n">DataFrame</span><span class="p">({</span><span class="s">&#39;class_id&#39;</span><span class="p">:</span> <span class="p">[</span><span class="mi">1</span><span class="p">,</span> <span class="mi">2</span><span class="p">,</span> <span class="mi">3</span><span class="p">],</span> <span class="s">&#39;title&#39;</span><span class="p">:</span> <span class="p">[</span><span class="s">&#39;Math&#39;</span><span class="p">,</span> <span class="s">&#39;English&#39;</span><span class="p">,</span> <span class="s">&#39;Spanish&#39;</span><span class="p">]})</span>
</pre></div>

</div>
</div>
</div>

</div>
<div class="cell border-box-sizing text_cell rendered">
<div class="prompt input_prompt">
</div>
<div class="inner_cell">
<div class="text_cell_render border-box-sizing rendered_html">
<h1 id="Joining-the-Restaurant-Data">Joining the Restaurant Data<a class="anchor-link" href="#Joining-the-Restaurant-Data">&#182;</a></h1><p>Now let's load the restaurant data that we will be analyzing:</p>

</div>
</div>
</div>
<div class="cell border-box-sizing code_cell rendered">
<div class="input">
<div class="prompt input_prompt">In&nbsp;[&nbsp;]:</div>
<div class="inner_cell">
    <div class="input_area">
<div class=" highlight hl-ipython3"><pre><span class="n">resto</span> <span class="o">=</span> <span class="n">pd</span><span class="o">.</span><span class="n">read_csv</span><span class="p">(</span><span class="s">&#39;restaurants.csv&#39;</span><span class="p">)</span>
<span class="n">resto</span><span class="o">.</span><span class="n">info</span><span class="p">()</span>
</pre></div>

</div>
</div>
</div>

</div>
<div class="cell border-box-sizing code_cell rendered">
<div class="input">
<div class="prompt input_prompt">In&nbsp;[&nbsp;]:</div>
<div class="inner_cell">
    <div class="input_area">
<div class=" highlight hl-ipython3"><pre><span class="n">resto</span><span class="p">[:</span><span class="mi">10</span><span class="p">]</span>
</pre></div>

</div>
</div>
</div>

</div>
<div class="cell border-box-sizing text_cell rendered">
<div class="prompt input_prompt">
</div>
<div class="inner_cell">
<div class="text_cell_render border-box-sizing rendered_html">
<p>The restaurant data has four columns.
<strong>id</strong> is a unique ID field (unique for each row), <strong>name</strong> is the name of the restaurant, and <strong>city</strong> is where it is located.
The fourth column, <strong>cluster</strong>, is a "gold standard" column.
If two records have the same <strong>cluster</strong>, that means they are both about the same restaurant.</p>
<p>The type of join we made above between Students and Grades, where we link records with equal values in a common column, is called an <em>equijoin</em>.
Equijoins may join on more than one column, too (both value have to match).</p>
<p>Let's use an equijoin to find pairs of duplicate restaurant records.
We join the data to itself, on the <strong>cluster</strong> column.</p>
<blockquote><p>Note: a join between a table and itself is called a <em>self-join</em>.</p>
</blockquote>
<p>The result ("clusters" below) has a lot of extra records in it.
For example, since we're joining a table to itself, every record matches itself.
We can filter on IDs to get rid of these extra join results.
Note that when Pandas joins two tables that have columns with the same name, it appends "_x" and "_y" to the names to distinguish them.</p>

</div>
</div>
</div>
<div class="cell border-box-sizing code_cell rendered">
<div class="input">
<div class="prompt input_prompt">In&nbsp;[&nbsp;]:</div>
<div class="inner_cell">
    <div class="input_area">
<div class=" highlight hl-ipython3"><pre><span class="n">clusters</span> <span class="o">=</span> <span class="n">pd</span><span class="o">.</span><span class="n">merge</span><span class="p">(</span><span class="n">resto</span><span class="p">,</span> <span class="n">resto</span><span class="p">,</span> <span class="n">on</span><span class="o">=</span><span class="s">&#39;cluster&#39;</span><span class="p">)</span>
<span class="n">clusters</span> <span class="o">=</span> <span class="n">clusters</span><span class="p">[</span><span class="n">clusters</span><span class="o">.</span><span class="n">id_x</span> <span class="o">!=</span> <span class="n">clusters</span><span class="o">.</span><span class="n">id_y</span><span class="p">]</span>
<span class="n">clusters</span><span class="p">[:</span><span class="mi">10</span><span class="p">]</span>
</pre></div>

</div>
</div>
</div>

</div>
<div class="cell border-box-sizing text_cell rendered">
<div class="prompt input_prompt">
</div>
<div class="inner_cell">
<div class="text_cell_render border-box-sizing rendered_html">
<h3 id="DIY">DIY<a class="anchor-link" href="#DIY">&#182;</a></h3><p><em>2.</em> There are still extra records in <em>clusters</em>, above.  If records <em>A</em> and <em>B</em> match each other, then we will get both (<em>A</em>, <em>B</em>) and (<em>B</em>, <em>A</em>) in the output.
Filter <em>clusters</em> so that we only keep one instance of each matching pair (HINT: use the IDs again).</p>

</div>
</div>
</div>
<div class="cell border-box-sizing code_cell rendered">
<div class="input">
<div class="prompt input_prompt">In&nbsp;[&nbsp;]:</div>
<div class="inner_cell">
    <div class="input_area">
<div class=" highlight hl-ipython3"><pre> 
</pre></div>

</div>
</div>
</div>

</div>
<div class="cell border-box-sizing text_cell rendered">
<div class="prompt input_prompt">
</div>
<div class="inner_cell">
<div class="text_cell_render border-box-sizing rendered_html">
<h2 id="Fuzzy-Joins">Fuzzy Joins<a class="anchor-link" href="#Fuzzy-Joins">&#182;</a></h2><p>Sometimes an equijoin isn't good enough.</p>
<p>Say you want to match up records that are <em>almost</em> equal in a column.
Or where a <em>function</em> of a columns is equal.
Or maybe you don't care about equality: maybe "less than" or "greater than or equal to" is what you want.
These cases call for a more general join than equijoin.</p>
<p>We are going to make one of these joins between the restaurants data and itself.
Specifically, we want to match up pairs of records whose restaurant names are <em>almost</em> the same.
We call this a <strong>fuzzy join</strong>.</p>
<p>To do a fuzzy join in Pandas we need to go about it in a few steps:</p>
<ol>
<li>Join every record in the first table with every record in the second table. This is called the <strong>Cartesian product</strong> of the tables, and it's simply a list of all possible pairs of records.</li>
<li>Add a column to the Cartesian product that measures how "similar" each pair of records is. This is our <strong>join criterion</strong>.</li>
<li>Filter the Cartesian product based on when the join criterion is "similar enough."</li>
</ol>
<blockquote><p>SQL Aside: In SQL, all of joins are supported in about the same way as equijoins are.
Essentially, you write a boolean expression on columns from the join-tables, and whenever that expression is true, you join the records together.
This is very similar to writing an <strong>if</strong> statement in python or Java.</p>
</blockquote>
<p>Let's do an example to get the hang of it.</p>

</div>
</div>
</div>
<div class="cell border-box-sizing text_cell rendered">
<div class="prompt input_prompt">
</div>
<div class="inner_cell">
<div class="text_cell_render border-box-sizing rendered_html">
<h4 id="1.-Join-every-record-in-the-first-table-with-every-record-in-the-second-table.">1. Join every record in the first table with every record in the second table.<a class="anchor-link" href="#1.-Join-every-record-in-the-first-table-with-every-record-in-the-second-table.">&#182;</a></h4><p>We use a "dummy" column to compute the Cartesian product of the data with itself.
<strong>dummy</strong> takes the same value for every record, so we can do an equijoin and get back all pairs.</p>

</div>
</div>
</div>
<div class="cell border-box-sizing code_cell rendered">
<div class="input">
<div class="prompt input_prompt">In&nbsp;[&nbsp;]:</div>
<div class="inner_cell">
    <div class="input_area">
<div class=" highlight hl-ipython3"><pre><span class="n">resto</span><span class="p">[</span><span class="s">&#39;dummy&#39;</span><span class="p">]</span> <span class="o">=</span> <span class="mi">0</span>
<span class="n">prod</span> <span class="o">=</span> <span class="n">pd</span><span class="o">.</span><span class="n">merge</span><span class="p">(</span><span class="n">resto</span><span class="p">,</span> <span class="n">resto</span><span class="p">,</span> <span class="n">on</span><span class="o">=</span><span class="s">&#39;dummy&#39;</span><span class="p">)</span>

<span class="c"># Clean up</span>
<span class="k">del</span> <span class="n">prod</span><span class="p">[</span><span class="s">&#39;dummy&#39;</span><span class="p">]</span>
<span class="k">del</span> <span class="n">resto</span><span class="p">[</span><span class="s">&#39;dummy&#39;</span><span class="p">]</span>

<span class="c"># Show that prod is the size of &quot;resto&quot; squared:</span>
<span class="nb">print</span> <span class="nb">len</span><span class="p">(</span><span class="n">prod</span><span class="p">),</span> <span class="nb">len</span><span class="p">(</span><span class="n">resto</span><span class="p">)</span><span class="o">**</span><span class="mi">2</span>
</pre></div>

</div>
</div>
</div>

</div>
<div class="cell border-box-sizing code_cell rendered">
<div class="input">
<div class="prompt input_prompt">In&nbsp;[&nbsp;]:</div>
<div class="inner_cell">
    <div class="input_area">
<div class=" highlight hl-ipython3"><pre><span class="n">prod</span><span class="p">[:</span><span class="mi">10</span><span class="p">]</span>
</pre></div>

</div>
</div>
</div>

</div>
<div class="cell border-box-sizing text_cell rendered">
<div class="prompt input_prompt">
</div>
<div class="inner_cell">
<div class="text_cell_render border-box-sizing rendered_html">
<h3 id="DIY">DIY<a class="anchor-link" href="#DIY">&#182;</a></h3><p><em>3.</em> Like we did with <em>clusters</em> remove "extra" record pairs, e.g., ones with the same ID.</p>

</div>
</div>
</div>
<div class="cell border-box-sizing code_cell rendered">
<div class="input">
<div class="prompt input_prompt">In&nbsp;[&nbsp;]:</div>
<div class="inner_cell">
    <div class="input_area">
<div class=" highlight hl-ipython3"><pre> 
</pre></div>

</div>
</div>
</div>

</div>
<div class="cell border-box-sizing text_cell rendered">
<div class="prompt input_prompt">
</div>
<div class="inner_cell">
<div class="text_cell_render border-box-sizing rendered_html">
<h4 id="2.-Add-a-column-to-the-Cartesian-product-that-measures-how-&quot;similar&quot;-each-pair-of-records-is.">2. Add a column to the Cartesian product that measures how "similar" each pair of records is.<a class="anchor-link" href="#2.-Add-a-column-to-the-Cartesian-product-that-measures-how-&quot;similar&quot;-each-pair-of-records-is.">&#182;</a></h4><p>In the homework assignment, we used a string similarity metric called <em>cosine similarity</em> which measured how many "tokens" two strings shared in common.
Now, we're going to use an alternative measure of string similarity  called <em>edit-distance</em>.
<a href="http://en.wikipedia.org/wiki/Edit_distance">Edit-distance</a> counts the number of simple changes you have to make to a string to turn it into another string.</p>
<p>Import the edit distance library:</p>

</div>
</div>
</div>
<div class="cell border-box-sizing code_cell rendered">
<div class="input">
<div class="prompt input_prompt">In&nbsp;[&nbsp;]:</div>
<div class="inner_cell">
    <div class="input_area">
<div class=" highlight hl-ipython3"><pre><span class="kn">import</span> <span class="nn">Levenshtein</span> <span class="k">as</span> <span class="nn">L</span>

<span class="n">L</span><span class="o">.</span><span class="n">distance</span><span class="p">(</span><span class="s">&#39;Hello, World!&#39;</span><span class="p">,</span> <span class="s">&#39;Hallo, World!&#39;</span><span class="p">)</span>
</pre></div>

</div>
</div>
</div>

</div>
<div class="cell border-box-sizing text_cell rendered">
<div class="prompt input_prompt">
</div>
<div class="inner_cell">
<div class="text_cell_render border-box-sizing rendered_html">
<p>Next, we add a computed column, named <strong>distance</strong>, that measures the edit distance between the names of two restaurants:</p>

</div>
</div>
</div>
<div class="cell border-box-sizing code_cell rendered">
<div class="input">
<div class="prompt input_prompt">In&nbsp;[&nbsp;]:</div>
<div class="inner_cell">
    <div class="input_area">
<div class=" highlight hl-ipython3"><pre><span class="c"># This takes a minute or two to run</span>
<span class="n">prod</span><span class="p">[</span><span class="s">&#39;distance&#39;</span><span class="p">]</span> <span class="o">=</span> <span class="n">prod</span><span class="o">.</span><span class="n">apply</span><span class="p">(</span><span class="k">lambda</span> <span class="n">r</span><span class="p">:</span> <span class="n">L</span><span class="o">.</span><span class="n">distance</span><span class="p">(</span><span class="n">r</span><span class="p">[</span><span class="s">&#39;name_x&#39;</span><span class="p">],</span> <span class="n">r</span><span class="p">[</span><span class="s">&#39;name_y&#39;</span><span class="p">]),</span> <span class="n">axis</span><span class="o">=</span><span class="mi">1</span><span class="p">)</span>
</pre></div>

</div>
</div>
</div>

</div>
<div class="cell border-box-sizing text_cell rendered">
<div class="prompt input_prompt">
</div>
<div class="inner_cell">
<div class="text_cell_render border-box-sizing rendered_html">
<h4 id="3.--Filter-the-Cartesian-product-based-on-when-the-join-criterion-is-&quot;similar-enough.&quot;">3.  Filter the Cartesian product based on when the join criterion is "similar enough."<a class="anchor-link" href="#3.--Filter-the-Cartesian-product-based-on-when-the-join-criterion-is-&quot;similar-enough.&quot;">&#182;</a></h4><p>Now we complete the join by filtering out pairs or records that aren't equal enough for our liking.
As in the first homework assignment, we can only figure out how similar is "similar enough" by trying out some different options.
Let's try maximum edit-distance from 0 to 10 and compute precision and recall.</p>

</div>
</div>
</div>
<div class="cell border-box-sizing code_cell rendered">
<div class="input">
<div class="prompt input_prompt">In&nbsp;[&nbsp;]:</div>
<div class="inner_cell">
    <div class="input_area">
<div class=" highlight hl-ipython3"><pre><span class="o">%</span><span class="k">matplotlib</span> inline
<span class="kn">import</span> <span class="nn">pylab</span>

<span class="k">def</span> <span class="nf">accuracy</span><span class="p">(</span><span class="n">max_distance</span><span class="p">):</span>
    <span class="n">similar</span> <span class="o">=</span> <span class="n">prod</span><span class="p">[</span><span class="n">prod</span><span class="o">.</span><span class="n">distance</span> <span class="o">&lt;</span> <span class="n">max_distance</span><span class="p">]</span>
    <span class="n">correct</span> <span class="o">=</span> <span class="nb">float</span><span class="p">(</span><span class="nb">sum</span><span class="p">(</span><span class="n">similar</span><span class="o">.</span><span class="n">cluster_x</span> <span class="o">==</span> <span class="n">similar</span><span class="o">.</span><span class="n">cluster_y</span><span class="p">))</span>
    <span class="n">precision</span> <span class="o">=</span> <span class="n">correct</span> <span class="o">/</span> <span class="nb">len</span><span class="p">(</span><span class="n">similar</span><span class="p">)</span>
    <span class="n">recall</span> <span class="o">=</span> <span class="n">correct</span> <span class="o">/</span> <span class="nb">len</span><span class="p">(</span><span class="n">clusters</span><span class="p">)</span>
    <span class="k">return</span> <span class="p">(</span><span class="n">precision</span><span class="p">,</span> <span class="n">recall</span><span class="p">)</span>

<span class="n">thresholds</span> <span class="o">=</span> <span class="nb">range</span><span class="p">(</span><span class="mi">1</span><span class="p">,</span> <span class="mi">11</span><span class="p">)</span>
<span class="n">p</span> <span class="o">=</span> <span class="p">[]</span>
<span class="n">r</span> <span class="o">=</span> <span class="p">[]</span>

<span class="k">for</span> <span class="n">t</span> <span class="ow">in</span> <span class="n">thresholds</span><span class="p">:</span>
    <span class="n">acc</span> <span class="o">=</span> <span class="n">accuracy</span><span class="p">(</span><span class="n">t</span><span class="p">)</span>
    <span class="n">p</span><span class="o">.</span><span class="n">append</span><span class="p">(</span><span class="n">acc</span><span class="p">[</span><span class="mi">0</span><span class="p">])</span>
    <span class="n">r</span><span class="o">.</span><span class="n">append</span><span class="p">(</span><span class="n">acc</span><span class="p">[</span><span class="mi">1</span><span class="p">])</span>

<span class="n">pylab</span><span class="o">.</span><span class="n">plot</span><span class="p">(</span><span class="n">thresholds</span><span class="p">,</span> <span class="n">p</span><span class="p">)</span>
<span class="n">pylab</span><span class="o">.</span><span class="n">plot</span><span class="p">(</span><span class="n">thresholds</span><span class="p">,</span> <span class="n">r</span><span class="p">)</span>
<span class="n">pylab</span><span class="o">.</span><span class="n">legend</span><span class="p">([</span><span class="s">&#39;precision&#39;</span><span class="p">,</span> <span class="s">&#39;recall&#39;</span><span class="p">],</span> <span class="n">loc</span><span class="o">=</span><span class="s">&#39;upper left&#39;</span><span class="p">)</span>
</pre></div>

</div>
</div>
</div>

</div>
<div class="cell border-box-sizing text_cell rendered">
<div class="prompt input_prompt">
</div>
<div class="inner_cell">
<div class="text_cell_render border-box-sizing rendered_html">
<h3 id="DIY">DIY<a class="anchor-link" href="#DIY">&#182;</a></h3><p><em>4.</em> Another common way to visualize the tradeoff between precision and recall is to plot them directly against each other.
Create a scatterplot with precision on one axis and recall on the other (this graph generated is called precision-recall curve).
Where are "good" points on the plot, and where are "bad" ones.(use recall as horizontal axis and precision as vertical axis)</p>

</div>
</div>
</div>
<div class="cell border-box-sizing code_cell rendered">
<div class="input">
<div class="prompt input_prompt">In&nbsp;[&nbsp;]:</div>
<div class="inner_cell">
    <div class="input_area">
<div class=" highlight hl-ipython3"><pre> 
</pre></div>

</div>
</div>
</div>

</div>
<div class="cell border-box-sizing text_cell rendered">
<div class="prompt input_prompt">
</div>
<div class="inner_cell">
<div class="text_cell_render border-box-sizing rendered_html">
<p><em>5.</em> The python Levenshtein library provides another metric of string similarity called "ratio" (use <code>L.ratio(s1, s1)</code>).
<code>ratio</code> gives a similarity score between 0 and 1, with higher meaning more similar.
Add a column to "prod" with the <code>ratio</code> similarities of the <strong>name</strong> columns, and redo the precision/recall tradeoff analysis with the new metric.
(Note: you will have to alter the <code>accuracy</code> method and the threshold range.)
On this data, does <code>Levenshtein.ratio</code> do better than <code>Levenshtein.distance</code>? (Plot the two precision-recall curves together in one graph to compare them)</p>

</div>
</div>
</div>
<div class="cell border-box-sizing code_cell rendered">
<div class="input">
<div class="prompt input_prompt">In&nbsp;[&nbsp;]:</div>
<div class="inner_cell">
    <div class="input_area">
<div class=" highlight hl-ipython3"><pre> 
</pre></div>

</div>
</div>
</div>

</div>
<div class="cell border-box-sizing text_cell rendered">
<div class="prompt input_prompt">
</div>
<div class="inner_cell">
<div class="text_cell_render border-box-sizing rendered_html">
<p>Finally, remember to fill out the DIYs 1-5 <a href="https://ufl.instructure.com/courses/320501/quizzes/463144/">here</a> when you are ready!</p>

</div>
</div>
</div>
    </div>
  </div>


    <div class="back-to-top hidden-print text-center">
      <a href="#">Back to top</a>
    </div>

    
      <footer class="footer hidden-print col-md-12">
        <div class="col-md-4">
          <p>
            This web site does not host notebooks, it only renders notebooks
            available on other websites.
          </p>
        </div>

        <div class="col-md-4">
          <p>
            Delivered by <a href="http://www.fastly.com/">Fastly</a>, 
            Rendered by <a href="https://developer.rackspace.com/?nbviewer=awesome">Rackspace</a>
          </p>
          <p>
            nbviewer GitHub <a href="https://github.com/jupyter/nbviewer">repository</a>.
          </p>
        </div>

        <div class="col-md-4">
          
  
            
              <p>
                nbviewer version:
                <a href="https://github.com/jupyter/nbviewer/commit/03d6df082a04afe885eb1a7dd6dcd25b45a89181">
                  03d6df0
                </a>
              </p>
            
          
  
  <p class="text-muted">
    IPython version: 4.0.0
    
  </p>
  

          
  
  
  <p class="text-muted">
    Rendered
    <span class='date' data-date='Mon, 14 Sep 2015 18:46:21 UTC' title='Mon, 14 Sep 2015 18:46:21 UTC'>(Mon, 14 Sep 2015 18:46:21 UTC)</span>
  </p>
  

        </div>
      </footer>
    

  </div>

  <script src="/static/components/bootstrap/js/bootstrap.min.js"></script>
  <script src="/static/components/headroom.js/dist/headroom.min.js"></script>
  <script src="/static/components/headroom.js/dist/jQuery.headroom.min.js"></script>

  
  
  <script>
    $(function(){ $("#menubar").headroom({
      tolerance: 5,
      offset: 205,
      classes: {
        initial: "animated",
        pinned: "slideInDown",
        unpinned: "slideOutUp"
      }
    })});
  </script>


  <script>
    (function(i,s,o,g,r,a,m){i['GoogleAnalyticsObject']=r;i[r]=i[r]||function(){
      (i[r].q=i[r].q||[]).push(arguments)},i[r].l=1*new Date();a=s.createElement(o),
      m=s.getElementsByTagName(o)[0];a.async=1;a.src=g;m.parentNode.insertBefore(a,m)
    })(window,document,'script','//www.google-analytics.com/analytics.js','ga');
    ga('create', 'UA-38683231-2', 'auto');
    ga('send', 'pageview');
  </script>
  <script>
      var update_date  = function(){
          var str = window.moment($('.date').data('date')).fromNow();
          $('.date').text(str);
      }
      setInterval(update_date , 61*1000);
      $(update_date);
  </script>
  <!--NEW RELIC Stop Perf Measurement-->
  
  <!--NEW RELIC End-->
</body>
</html>